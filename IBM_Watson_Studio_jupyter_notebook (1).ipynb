{
 "cells": [
  {
   "cell_type": "markdown",
   "metadata": {
    "id": "_6H2kr_OkmLX"
   },
   "source": [
    "## My Jupyter Notebook on IBM Watson Studio"
   ]
  },
  {
   "cell_type": "markdown",
   "metadata": {
    "id": "0lEr57LWkrEr"
   },
   "source": [
    "## **Grace Ndunda**\n",
    "I am a Data Scientist"
   ]
  },
  {
   "cell_type": "markdown",
   "metadata": {
    "id": "YaVxbjVflI-Y"
   },
   "source": [
    "*I am in love with Data Science because i love numbers and statistics*"
   ]
  },
  {
   "cell_type": "markdown",
   "metadata": {
    "id": "RaDtYFUmlr3h"
   },
   "source": [
    "### The code below loads libraries"
   ]
  },
  {
   "cell_type": "code",
   "execution_count": 2,
   "metadata": {
    "colab": {
     "base_uri": "https://localhost:8080/"
    },
    "id": "JpKpVxRwl7Wk",
    "outputId": "1f9672cb-bce1-43a0-fffe-a3f1f80ad934"
   },
   "outputs": [
    {
     "name": "stdout",
     "output_type": "stream",
     "text": [
      "Welcome to the World of Python!\n"
     ]
    }
   ],
   "source": [
    "import numpy as np\n",
    "import pandas as pd\n",
    "print(\"Welcome to the World of Python!\")\n"
   ]
  },
  {
   "cell_type": "markdown",
   "metadata": {
    "id": "gl8Z-4JynTnw"
   },
   "source": [
    "https://developer.ibm.com/callforcode/solutions/2022-solutions/?lnk=ushpv18l1"
   ]
  }
 ],
 "metadata": {
  "colab": {
   "provenance": []
  },
  "kernelspec": {
   "display_name": "Python 3 (ipykernel)",
   "language": "python",
   "name": "python3"
  },
  "language_info": {
   "codemirror_mode": {
    "name": "ipython",
    "version": 3
   },
   "file_extension": ".py",
   "mimetype": "text/x-python",
   "name": "python",
   "nbconvert_exporter": "python",
   "pygments_lexer": "ipython3",
   "version": "3.9.13"
  }
 },
 "nbformat": 4,
 "nbformat_minor": 1
}
